{
 "cells": [
  {
   "cell_type": "markdown",
   "metadata": {
    "collapsed": true
   },
   "source": [
    "\n",
    "<img src=\"files/bannerR_Mesa de trabajo1.jpg\" />"
   ]
  },
  {
   "cell_type": "markdown",
   "metadata": {},
   "source": [
    "# Proyecto final Autómatas y Lenguajes Formales<p>\n",
    "\n",
    "\n",
    "Integrantes:\n",
    "\n",
    "José Daniel Valera Sánchez. 2191959 <p>\n",
    "Juan David Morantes Vergara. 2191931 <p>\n",
    "Andrés Julian Garcia Rueda. 2191962 <p>\n",
    "Grupo D1\n",
    "<p><p>\n",
    "# <center>SPACE-TIME BROKEN\n",
    "# Introducción\n",
    "<div style=\"text-align: justify\">La realizacion de este proyecto se fundamenta en la necesidad de aplicar diferentes formas de impartir conocimientos sobre los conceptos utilizados en el diseño y creación de automátas. Dichos autómatas representan gran importancia no solo dentro de la industria automotríz como en sus inicios sino en diversos sectores industriales tales como alimentación, metalurgia, tráfico, etc. Destacando de igual manera su importancia en la teoria de la complejidad computacional.<p>\n",
    "<div style=\"text-align: justify\">Ya habiendo abarcado la gran importancia de los automátas en el mundo, vale la pena destacar la posibilidad de usar los mismos de manera didáctica para entender su funcionamiento; y es asi como se da la presentación al proyecto **SPACE-TIME BROKEN**, el cual se define como un juego de escape, con portales, escaleras y pisos. El mismo basa su funcionamiento en los autómatas finitos, con los cuales es posible determinar la ruta mas corta a seguir para lograr escapar.\n",
    "<p><p>\n",
    "# Objetivos\n",
    "<div style=\"text-align: justify\">- Desarrollar la habilidad para determinar rutas cortas ante multiples opciones y comprender los procesos aplicados en autómatas y lenguajes formales. <p>\n",
    "<div style=\"text-align: justify\">- Demostrar de forma didáctica la aplicación de los diferentes autómatas determininistas y no deterministas con transiciones epsilon, con el fin de inculcar y motivar al jugador a aprender sobre los conceptos impartidos en Autómatas y Lenguajes Formales."
   ]
  },
  {
   "cell_type": "markdown",
   "metadata": {
    "collapsed": true
   },
   "source": [
    "<div style=\"text-align: justify\"><font size=\"4\" face=\"Comic Sans MS,arial,verdana\" >Dentro de un edificio de cuatro plantas  debido a un accidente en el laboratorio se produjeron diversas grietas espacio temporales... </font>\n",
    "<p></p>\n",
    "<div style=\"text-align: justify\"><font size=\"3.5\" face=\"Comic Sans MS,arial,verdana\" >Tu mayor prioridad es **escapar** lo mas rapido posible antes de que el edificio **¡¡Desaparezca¡¡**</font>"
   ]
  },
  {
   "cell_type": "markdown",
   "metadata": {},
   "source": [
    "<font size=\"3.5\" face=\"Noto Sans Mono,monospace\" >Cientifico(a) aqui tienes el mapa, encuentra la ruta de escape, pero **corree** el tiempo se agota... :0</font>"
   ]
  },
  {
   "cell_type": "markdown",
   "metadata": {},
   "source": [
    "# Piso 4\n",
    "\n",
    "<img src=\"files/Piso4.JPG\" width=\"700\"/>\n",
    "\n",
    "# Piso 3\n",
    "\n",
    "<img src=\"files/Piso3.JPG\" width=\"700\" />\n",
    "\n"
   ]
  },
  {
   "cell_type": "markdown",
   "metadata": {},
   "source": [
    "# Piso 2\n",
    "\n",
    "<img src=\"files/Piso2.JPG\" width=\"700\"/>\n",
    "\n",
    "# Piso 1\n",
    "\n",
    "<img src=\"files/Piso1.JPG\" width=\"700\"/>"
   ]
  },
  {
   "cell_type": "markdown",
   "metadata": {},
   "source": [
    "Donde:\n",
    "    1. La zona \"Roja\" Significa el punto de partida\n",
    "    2. Cada zona \"Morada\" es una zona por la cual el sujeto puede caminar \n",
    "    3. Cada zona \"Naranja\" representan una escalera\n",
    "    4. Las zonas \"Azules\" representan un portal que te puede teletansportar a un portal que este sobre o debajo de este\n",
    "    5. El color \"cafe\" significa que existe un vacio infinito por donde no se puede avanzar\n",
    "    6. Por ultimo pero no menos importante la zona VERDE es el punto de llegada, significa que llegaste a una zona segura\n",
    "   "
   ]
  },
  {
   "cell_type": "code",
   "execution_count": 1,
   "metadata": {
    "collapsed": false
   },
   "outputs": [],
   "source": [
    "from automata.shared.automaton import Automaton\n",
    "from automata.fa.fa import FA"
   ]
  },
  {
   "cell_type": "code",
   "execution_count": 2,
   "metadata": {
    "collapsed": false
   },
   "outputs": [],
   "source": [
    "from automatalib.fa.nfa import NFA \n",
    "nfa = NFA(\n",
    "    states=       {'s','1','2','3','4','5','6','7','8','9','I','A','B','C','D','E','F','G','H','J','K','L','M','N','P','Q','a','b','c','d','e','f'},\n",
    "    input_symbols={'s','1','2','3','4','5','6','7','8','9','I','A','B','C','D','E','F','G','H','J','K','L','M','N','P','Q','a','b','c','d','e','f'},\n",
    "    transitions={\n",
    "        's': {'a':{'a'},'B':{'B'},'c':{'c'},'d':{'d'},'N':{'N'}},\n",
    "        '1' : {},\n",
    "        '2' : {'':{'4'},'I':{'I'}},\n",
    "        '3' : {'':{'6'},'7':{'7'}},\n",
    "        '4' : {'a':{'a'},'':{'2'}},\n",
    "        '5' : {'':{'1'},'6':{'6'},'f':{'f'}},\n",
    "        '6' : {'':{'3'},'5':{'5'},'f':{'f'}},\n",
    "        '7' : {'':{'I'},'3':{'3'}},\n",
    "        '8' : {'':{'A'},'b':{'b'}},\n",
    "        '9' : {'':{'B','E'},'A':{'A'},'C':{'C'},'H':{'H'},'c':{'c'},'d':{'d'}},\n",
    "        'I' : {'':{'7'},'2':{'2'}},\n",
    "        'A' : {'':{'8'},'9':{'9'},'C':{'C'},'H':{'H'},'c':{'c'},'d':{'d'}},\n",
    "        'B' : {'':{'9','E'},'a':{'a'},'c':{'c'},'d':{'d'},'s':{'s'},'N':{'N'}},\n",
    "        'C' : {'':{'D'},'H':{'H'},'A':{'A'},'9':{'9'},'c':{'c'},'d':{'d'}},\n",
    "        'D' : {'':{'C'},'E':{'E'}},\n",
    "        'E' : {'':{'9'},'D':{'D'}},\n",
    "        'F' : {'':{'J'},'e':{'e'},'G':{'G'}},\n",
    "        'G' : {'':{'K'},'F':{'F'},'e':{'e'}},\n",
    "        'H' : {'C':{'C'},'A':{'A'},'9':{'9'},'c':{'c'},'d':{'d'}},\n",
    "        'J' : {'':{'F'}},\n",
    "        'K' : {'':{'G'}},\n",
    "        'L' : {'':{'P'}},\n",
    "        'M' : {'':{'Q'},'N':{'N'}},\n",
    "        'N' : {'M':{'M'},'s':{'s'},'c':{'c'},'d':{'d'},'B':{'B'}},\n",
    "        'P' : {'':{'L'},'Q':{'Q'}},\n",
    "        'Q' : {'':{'M'},'P':{'P'}},\n",
    "        'a' : {'s':{'s'},'4':{'4'},'c':{'c'},'d':{'d'},'B':{'B'},'N':{'N'}},\n",
    "        'b' : {'8':{'8'}},\n",
    "        'c' : {'d':{'d'},'a':{'a'},'s':{'s'},'B':{'B'},'N':{'N'},'C':{'C'},'H':{'H'},'A':{'A'},'9':{'9'}},\n",
    "        'd' : {'c':{'c'},'a':{'a'},'s':{'s'},'B':{'B'},'N':{'N'},'C':{'C'},'H':{'H'},'A':{'A'},'9':{'9'}},\n",
    "        'e' : {'F':{'F'},'G':{'G'}},\n",
    "        'f' : {'6':{'6'},'5':{'5'}},\n",
    "    },\n",
    "    initial_state='s',\n",
    "    final_states={'1','b'})"
   ]
  },
  {
   "cell_type": "markdown",
   "metadata": {},
   "source": [
    "Por favor ingresa la ruta a continuación:\n"
   ]
  },
  {
   "cell_type": "code",
   "execution_count": 4,
   "metadata": {
    "collapsed": false
   },
   "outputs": [
    {
     "name": "stdout",
     "output_type": "stream",
     "text": [
      "BAb\n",
      "A continuación los estados que recorre la ruta: \n",
      "[{'s'}, {'E', '9', 'B'}, {'A', '8'}, {'b'}]\n"
     ]
    }
   ],
   "source": [
    "p=str(input())\n",
    "print('A continuación los estados que recorre la ruta: ')\n",
    "r=list(nfa.validate_input(p, step=True))\n",
    "print(r)"
   ]
  },
  {
   "cell_type": "code",
   "execution_count": 5,
   "metadata": {
    "collapsed": false
   },
   "outputs": [
    {
     "name": "stdout",
     "output_type": "stream",
     "text": [
      "Recorre un total de 4 estados\n",
      "¡¡Felicidades!! \n",
      " \t Llegaste a la zona segura en el minimo de pasos posibles \n",
      "\n",
      " \t ERES UN GENIO\n"
     ]
    }
   ],
   "source": [
    "print('Recorre un total de ' + str(len(r)) + ' estados')\n",
    "if((len(r)- 1)>3):\n",
    "    print(\"¡¡Felicidades!! \\n \\t Lograste salir a salvo, sin embargo tomaste una ruta un poco extensa\\n\\n \\t La ruta mas corta era 'BAb'\")\n",
    "else:\n",
    "    print(\"¡¡Felicidades!! \\n \\t Llegaste a la zona segura en el minimo de pasos posibles \\n\\n \\t ERES UN GENIO\")"
   ]
  },
  {
   "cell_type": "markdown",
   "metadata": {},
   "source": [
    "**¿Alguna forma exacta de calcular la ruta?**\n",
    "\n",
    "\n",
    "A continuación presentamos el metodo que se emplea para transformar un Automata Finito No Determinista en un Automata Finito Determinista, ya que al aplicar esto también se puede apreciar la ruta mas corta de manera sencilla y corta"
   ]
  },
  {
   "cell_type": "markdown",
   "metadata": {},
   "source": [
    "# Autómata finito no determinista con transiciones-$%\\epsilon$$\\varepsilon$\n",
    "\n",
    "teniendo el automata que se visualiza en la siguiente imagen se llevara acabo su transformacion de AFND-$%\\epsilon$$\\varepsilon$ a AFD"
   ]
  },
  {
   "cell_type": "markdown",
   "metadata": {
    "collapsed": true
   },
   "source": [
    "<img src=\"files/proyecto grafica 1.png\" />"
   ]
  },
  {
   "cell_type": "markdown",
   "metadata": {},
   "source": [
    "a continuacion la tabla de transiciones del AFND-$%\\epsilon$$\\varepsilon$"
   ]
  },
  {
   "cell_type": "markdown",
   "metadata": {},
   "source": [
    "<img src=\"files/proyecto tabla 1.png\" />"
   ]
  },
  {
   "cell_type": "markdown",
   "metadata": {},
   "source": [
    "<div style=\"text-align: justify\">Antes de iniciar con el proceso, cabe resaltar que la minima clausura de un estado es si mismo y que la clausura de un estado comprende todos los estados conectados consecutivamente por epsilon. \n",
    "\n",
    "<div style=\"text-align: justify\">En primer instancia se se procede a calcular el estado inicial del nuevo automata al calcular la clausura de q0 en este caso, a la clausura de q0 es q0q1 por lo antes mencionado\n",
    "\n",
    "<img src=\"files/clausura de q0.png\" />\n"
   ]
  },
  {
   "cell_type": "markdown",
   "metadata": {},
   "source": [
    "<div style=\"text-align: justify\">A partir de este nuevo estado se calculara el resto de estados del automata, ahora se verifica para q0 su transicion cuando leé 'a' y para q1 tambien esto nos da los estados q0q3 apartir de esto se procede a calcular la clausura del estado q0q3 verificando la clausura de q0 y q3 esto nos da el estado q0q1q3 \n",
    "​\n",
    "<img src=\"files/clausura de q0q3.png\" />"
   ]
  },
  {
   "cell_type": "markdown",
   "metadata": {},
   "source": [
    "<div style=\"text-align: justify\">El cual sera posicionado en la tabla para las transiciones con 'a', este procedimiento se realiza de igualmanera para las transiciones con 'b' \n",
    "\n",
    "<img src=\"files/clausura para q0q1 2.png\" />"
   ]
  },
  {
   "cell_type": "markdown",
   "metadata": {},
   "source": [
    "<div style=\"text-align: justify\">Para continuar con la transformacion los estados resultantes de cada una de estas transiciones de los cuales no tengamos la clausura se les hara el mismo procedimiento \n",
    "\n",
    "<img src=\"files/q0q1q3 clausura.png\" />"
   ]
  },
  {
   "cell_type": "markdown",
   "metadata": {
    "collapsed": true
   },
   "source": [
    "<div style=\"text-align: justify\">Así hasta conocer las clausuras de todos los estados resultantes,\n",
    "por medio de este proceso se genera simultaneamente la tabla.\n",
    "\n",
    "<img src=\"files/procedimiento proyecto.png\" /> \n",
    "\n",
    "\n",
    "<img src=\"files/proyecto tabla 2.png\" />"
   ]
  },
  {
   "cell_type": "markdown",
   "metadata": {},
   "source": [
    "Una vez realizado todo el proceso se grafica el autómata visible a continuación \n",
    "\n",
    "\n",
    "<img src=\"files/proyecto grafica 2.png\" />"
   ]
  },
  {
   "cell_type": "markdown",
   "metadata": {},
   "source": [
    "# Bibliografia\n",
    "\n",
    "<div style=\"text-align: justify\">Para el proyecto se emplearon varias herramientas y de igual modo se extrajo  información fundamental para el desarrollo de este, a continuación la bilbiografia del proyecto:"
   ]
  },
  {
   "cell_type": "markdown",
   "metadata": {},
   "source": [
    "\n",
    "1. BIVL2AB / Academico / Cursos-UIS / Automatas / automatas-UIS-student. (s. f.). GitLab. Recuperado 10 de octubre de 2021, de https://gitlab.com/bivl2ab/academico/cursos-uis/automatas/automatas-uis-student\n",
    "2. Finite State Machine Designer - by Evan Wallace. (s. f.). Finite State Machine. Recuperado 10 de octubre de 2021, de https://www.cs.unc.edu/%7Eotternes/comp455/fsm_designer/\n",
    "3. GeoGebra Clásico - GeoGebra. (s. f.). Geogebra Classic 5. Recuperado 10 de octubre de 2021, de https://www.geogebra.org/classic?lang=es\n"
   ]
  }
 ],
 "metadata": {
  "kernelspec": {
   "display_name": "Python 3",
   "language": "python",
   "name": "python3"
  },
  "language_info": {
   "codemirror_mode": {
    "name": "ipython",
    "version": 3
   },
   "file_extension": ".py",
   "mimetype": "text/x-python",
   "name": "python",
   "nbconvert_exporter": "python",
   "pygments_lexer": "ipython3",
   "version": "3.6.2"
  }
 },
 "nbformat": 4,
 "nbformat_minor": 0
}
